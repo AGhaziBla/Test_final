{
  "cells": [
    {
      "cell_type": "code",
      "execution_count": null,
      "metadata": {
        "id": "nSDUfz9d_Xdp",
        "outputId": "c7457dd3-9074-41f0-b93c-921a55da35aa"
      },
      "outputs": [
        {
          "name": "stdout",
          "output_type": "stream",
          "text": [
            "2.3.0\n",
            "1.19.2\n"
          ]
        }
      ],
      "source": [
        "import tensorflow\n",
        "from tensorflow.keras import backend as k\n",
        "from tensorflow.keras.models import Sequential\n",
        "from tensorflow.keras.layers import Dense, Dropout,Conv1D, MaxPooling1D,Flatten,BatchNormalization\n",
        "from sklearn.model_selection import train_test_split\n",
        "import numpy\n",
        "\n",
        "from tensorflow.keras.callbacks import ModelCheckpoint, LearningRateScheduler\n",
        "\n",
        "\n",
        "import tensorflow as tf\n",
        "print(tf.__version__)\n",
        "\n",
        "import numpy as np\n",
        "print(np.__version__)\n",
        "\n",
        "numpy.random.seed(2)\n",
        "import pandas as pd\n",
        "\n",
        "\n",
        "\n"
      ]
    },
    {
      "cell_type": "code",
      "execution_count": null,
      "metadata": {
        "id": "GXyNlwZlqkej"
      },
      "outputs": [],
      "source": [
        "ch=\"6\""
      ]
    },
    {
      "cell_type": "code",
      "execution_count": null,
      "metadata": {
        "scrolled": true,
        "id": "hO5LE7Njqkek",
        "outputId": "4de7d0fa-ecb0-4f76-ac6f-855c72982c0f"
      },
      "outputs": [
        {
          "name": "stdout",
          "output_type": "stream",
          "text": [
            "(12810, 9)\n",
            "(12810, 9)\n"
          ]
        }
      ],
      "source": [
        "# loading load prima indians diabetes dataset, past 5 years of medical history\n",
        "#dataset = numpy.loadtxt(\"Electrode1.txt\", delimiter=\",\")\n",
        "dataset= pd.read_csv(\"./colab/chb\"+ch+\"_Preictal_30_final_is_entropy_29_10_22_corrected_5s/chb0\"+ch+\"_Electrode2_5s.csv\",delimiter=\" \",header=None)\n",
        "dataset=numpy.array(dataset,float)\n",
        "# split into input (X) and output (Y) variables, splitting csv data\n",
        "X1_e2 = dataset[:,:]\n",
        "print(X1_e2.shape)\n",
        "#X1_e2=X1_e2.transpose()\n",
        "print (X1_e2.shape)\n",
        "numpy.savetxt(\"./colab/chb\"+ch+\"_Preictal_30_final_is_entropy_29_10_22_corrected_5s/all_e2.txt\", X1_e2, delimiter=\" \",fmt='%f')"
      ]
    },
    {
      "cell_type": "code",
      "execution_count": null,
      "metadata": {
        "id": "sPFbxerVqkel",
        "outputId": "776de187-7af6-4556-df7c-d3c2361b7d2c"
      },
      "outputs": [
        {
          "name": "stdout",
          "output_type": "stream",
          "text": [
            "[0.19961091 0.23383159 0.26684979 ... 1.80392699 1.86712671 1.93247101]\n"
          ]
        }
      ],
      "source": [
        "print(X1_e2[:,6])"
      ]
    },
    {
      "cell_type": "markdown",
      "metadata": {
        "id": "qBeIz6RJqkel"
      },
      "source": [
        "# PPSR"
      ]
    },
    {
      "cell_type": "code",
      "execution_count": null,
      "metadata": {
        "id": "rnhXJflpqkem",
        "outputId": "a98a54cc-61aa-4e3e-815b-9e10a7f28a56"
      },
      "outputs": [
        {
          "name": "stdout",
          "output_type": "stream",
          "text": [
            "7\n"
          ]
        },
        {
          "data": {
            "text/plain": [
              "'for i in range(len(X1_e2_new)):\\n    s=sum(X1_e2[i])\\n    #print(s)\\n    for j in range(len(X1_e2_new[0])):\\n        X1_e2_new[i,j]= X1_e2[i,j]/s\\n'"
            ]
          },
          "execution_count": 278,
          "metadata": {},
          "output_type": "execute_result"
        }
      ],
      "source": [
        "X1_e2_new=X1_e2[:,(1,2,3,4,5,6,7)]\n",
        "print(len(X1_e2_new[0]))\n",
        "\"\"\"for i in range(len(X1_e2_new)):\n",
        "    s=sum(X1_e2[i])\n",
        "    #print(s)\n",
        "    for j in range(len(X1_e2_new[0])):\n",
        "        X1_e2_new[i,j]= X1_e2[i,j]/s\n",
        "\"\"\""
      ]
    },
    {
      "cell_type": "code",
      "execution_count": null,
      "metadata": {
        "id": "blxcZj6Lqkem",
        "outputId": "e28bfeb7-d613-4419-9c89-affb000a25a4"
      },
      "outputs": [
        {
          "name": "stdout",
          "output_type": "stream",
          "text": [
            "(12810, 7)\n"
          ]
        }
      ],
      "source": [
        "print (X1_e2_new.shape)"
      ]
    },
    {
      "cell_type": "code",
      "execution_count": null,
      "metadata": {
        "id": "4AKEZ1gQqken"
      },
      "outputs": [],
      "source": [
        "numpy.savetxt(\"./colab/stand_norm_e2.txt\",X1_e2_new,delimiter=\" \",fmt='%f')"
      ]
    },
    {
      "cell_type": "code",
      "execution_count": null,
      "metadata": {
        "id": "xmXvS9ebqken"
      },
      "outputs": [],
      "source": [
        "\n",
        "\n",
        "Y1_e2 = X1_e2[:,8]\n",
        "\n",
        "numpy.savetxt(\"./colab/y2_e2.txt\",Y1_e2)\n"
      ]
    },
    {
      "cell_type": "code",
      "execution_count": null,
      "metadata": {
        "id": "91EbwC51qken",
        "outputId": "f748fec1-379c-4d91-e541-f571d06d5713"
      },
      "outputs": [
        {
          "name": "stdout",
          "output_type": "stream",
          "text": [
            "[904, 1869, 3045, 5564, 8110, 9165, 11343, 12526]\n"
          ]
        }
      ],
      "source": [
        "cr=[]\n",
        "for i in range(len(Y1_e2)):\n",
        "    if (Y1_e2[i]==2) and (Y1_e2[i-1]==1):\n",
        "        cr.append(i)\n",
        "print (cr)"
      ]
    },
    {
      "cell_type": "markdown",
      "metadata": {
        "id": "43VqiExGqkeo"
      },
      "source": [
        "# Standardisation_two_electrods"
      ]
    },
    {
      "cell_type": "code",
      "execution_count": null,
      "metadata": {
        "id": "ZiLx0LI8qkeo",
        "outputId": "e1e0493d-7541-4b05-fa15-23da7249b939"
      },
      "outputs": [
        {
          "name": "stdout",
          "output_type": "stream",
          "text": [
            "(12810, 9)\n",
            "(12810, 9)\n"
          ]
        }
      ],
      "source": [
        "dataset= pd.read_csv(\"./colab/chb\"+ch+\"_Preictal_30_final_is_entropy_29_10_22_corrected_5s/chb0\"+ch+\"_Electrode1_5s.csv\",delimiter=\" \",header=None)\n",
        "dataset=numpy.array(dataset,float)\n",
        "# split into input (X) and output (Y) variables, splitting csv data\n",
        "X1_e1 = dataset[:,:]\n",
        "print(X1_e1.shape)\n",
        "#X1_e1=X1_e1.transpose()\n",
        "print (X1_e1.shape)"
      ]
    },
    {
      "cell_type": "code",
      "execution_count": null,
      "metadata": {
        "id": "VbmH0Hviqkeo"
      },
      "outputs": [],
      "source": [
        "numpy.savetxt(\"./colab/chb\"+ch+\"_Preictal_30_final_is_entropy_29_10_22_corrected_5s/all_e1.txt\", X1_e1, delimiter=\" \",fmt='%f')"
      ]
    },
    {
      "cell_type": "code",
      "execution_count": null,
      "metadata": {
        "id": "7A-U5wbUqkeo",
        "outputId": "696b19c4-c67c-41f5-989c-9b46d10878ff"
      },
      "outputs": [
        {
          "data": {
            "text/plain": [
              "'for i in range(len(X1_e1_new)):\\n    s=sum(X1_e1_new[i])\\n    #print(s)\\n    for j in range(len(X1_e1_new[0])):\\n        X1_e1_new[i,j]= X1_e1[i,j]/s\\n'"
            ]
          },
          "execution_count": 285,
          "metadata": {},
          "output_type": "execute_result"
        }
      ],
      "source": [
        "\n",
        "\n",
        "X1_e1_new=X1_e1[:,(1,2,3,4,5,6,7)]\n",
        "\"\"\"for i in range(len(X1_e1_new)):\n",
        "    s=sum(X1_e1_new[i])\n",
        "    #print(s)\n",
        "    for j in range(len(X1_e1_new[0])):\n",
        "        X1_e1_new[i,j]= X1_e1[i,j]/s\n",
        "\"\"\"\n"
      ]
    },
    {
      "cell_type": "code",
      "execution_count": null,
      "metadata": {
        "id": "CEedXzzIqkep"
      },
      "outputs": [],
      "source": [
        "numpy.savetxt(\"./colab/stand_norm_e1.txt\", X1_e1_new, delimiter=\" \",fmt='%f')"
      ]
    },
    {
      "cell_type": "code",
      "execution_count": null,
      "metadata": {
        "id": "woQ2J-KOqkep"
      },
      "outputs": [],
      "source": [
        "Y1_e1 = X1_e1[:,8]\n",
        "\n",
        "numpy.savetxt(\"./colab/y2_e1.txt\",Y1_e1)"
      ]
    },
    {
      "cell_type": "code",
      "execution_count": null,
      "metadata": {
        "id": "C7eX3OwDqkep"
      },
      "outputs": [],
      "source": [
        "X_pre_ictal_e1=[X1_e1_new[i] for i,j in enumerate(X1_e1)  if (j[8]==0)or(j[8]==1)]\n",
        "Y1_pre_ictal_e1=[Y1_e1[i] for i,j in enumerate(X1_e1)  if (j[8]==0)or(j[8]==1)]\n",
        "X_pre_ictal_e1=numpy.array(X_pre_ictal_e1,float)\n",
        "Y1_pre_ictal_e1=numpy.array(Y1_pre_ictal_e1,float)"
      ]
    },
    {
      "cell_type": "code",
      "execution_count": null,
      "metadata": {
        "id": "HgB56_vhqkep"
      },
      "outputs": [],
      "source": [
        "X_pre_ictal_e2=[X1_e2_new[i]  for i,j in enumerate(X1_e2)  if (j[8]==0)or(j[8]==1)]\n",
        "\n",
        "Y1_pre_ictal_e2=[Y1_e2[i] for i,j in enumerate(X1_e2)  if (j[8]==0)or(j[8]==1)]\n",
        "X_pre_ictal_e2=numpy.array(X_pre_ictal_e2,float)\n",
        "Y1_pre_ictal_e2=numpy.array(Y1_pre_ictal_e2,float)"
      ]
    },
    {
      "cell_type": "code",
      "execution_count": null,
      "metadata": {
        "id": "mfSwyeG9qkep"
      },
      "outputs": [],
      "source": [
        "numpy.savetxt(\"./colab/y_pre_ictal_e1.txt\",Y1_pre_ictal_e1)\n",
        "numpy.savetxt(\"./colab/stand_norm_e1_pre_ictal.txt\",X_pre_ictal_e1,delimiter=\" \",fmt='%f')\n",
        "numpy.savetxt(\"./colab/stand_norm_e2_pre_ictal.txt\",X_pre_ictal_e2,delimiter=\" \",fmt='%f')"
      ]
    },
    {
      "cell_type": "code",
      "execution_count": null,
      "metadata": {
        "id": "vaAhsjc_qkep",
        "outputId": "318b3b01-3d98-41d7-daec-402049e3a027"
      },
      "outputs": [
        {
          "name": "stdout",
          "output_type": "stream",
          "text": [
            "(12779, 1)\n",
            "[544, 1505, 2796, 5190, 7732, 8784, 10959, 12139]\n",
            "0\n",
            "1\n",
            "2\n",
            "3\n",
            "4\n",
            "5\n",
            "6\n",
            "7\n"
          ]
        },
        {
          "ename": "IndexError",
          "evalue": "index 12779 is out of bounds for axis 0 with size 12779",
          "output_type": "error",
          "traceback": [
            "\u001b[1;31m---------------------------------------------------------------------------\u001b[0m",
            "\u001b[1;31mIndexError\u001b[0m                                Traceback (most recent call last)",
            "\u001b[1;32m<ipython-input-291-8f6928932fbf>\u001b[0m in \u001b[0;36m<module>\u001b[1;34m\u001b[0m\n\u001b[0;32m     16\u001b[0m     \u001b[0mprint\u001b[0m\u001b[1;33m(\u001b[0m\u001b[0mi\u001b[0m\u001b[1;33m)\u001b[0m\u001b[1;33m\u001b[0m\u001b[1;33m\u001b[0m\u001b[0m\n\u001b[0;32m     17\u001b[0m     \u001b[1;32mfor\u001b[0m \u001b[0mj\u001b[0m \u001b[1;32min\u001b[0m \u001b[0mrange\u001b[0m \u001b[1;33m(\u001b[0m\u001b[0mr\u001b[0m\u001b[1;33m[\u001b[0m\u001b[0mi\u001b[0m\u001b[1;33m]\u001b[0m\u001b[1;33m+\u001b[0m\u001b[1;36m1\u001b[0m\u001b[1;33m,\u001b[0m \u001b[0mr\u001b[0m\u001b[1;33m[\u001b[0m\u001b[0mi\u001b[0m\u001b[1;33m]\u001b[0m\u001b[1;33m+\u001b[0m\u001b[1;36m902\u001b[0m\u001b[1;33m)\u001b[0m\u001b[1;33m:\u001b[0m\u001b[1;33m\u001b[0m\u001b[1;33m\u001b[0m\u001b[0m\n\u001b[1;32m---> 18\u001b[1;33m         \u001b[0my\u001b[0m\u001b[1;33m[\u001b[0m\u001b[0mj\u001b[0m\u001b[1;33m]\u001b[0m\u001b[1;33m=\u001b[0m\u001b[1;36m0\u001b[0m\u001b[1;33m\u001b[0m\u001b[1;33m\u001b[0m\u001b[0m\n\u001b[0m\u001b[0;32m     19\u001b[0m \u001b[1;33m\u001b[0m\u001b[0m\n\u001b[0;32m     20\u001b[0m \u001b[1;33m\u001b[0m\u001b[0m\n",
            "\u001b[1;31mIndexError\u001b[0m: index 12779 is out of bounds for axis 0 with size 12779"
          ]
        }
      ],
      "source": [
        "output= pd.read_csv(\"./colab/y_pre_ictal_e1.txt\",delimiter=\" \",header=None)\n",
        "output=numpy.array(output,int)\n",
        "# split into input (X) and output (Y) variables, splitting csv data\n",
        "y = output[:,:]\n",
        "print(y.shape)\n",
        "\n",
        "\n",
        "\n",
        "r=[]\n",
        "for i in range(len(y)):\n",
        "    if (y[i]==1) and (y[i-1]==0):\n",
        "        r.append(i)\n",
        "print (r)\n",
        "\n",
        "for i in range(len(r)):\n",
        "    print(i)\n",
        "    for j in range (r[i]+1, r[i]+902):\n",
        "        y[j]=0\n",
        "\n",
        "\n",
        "numpy.savetxt(\"./colab/y_pre_ictal_e1_30.txt\",y,delimiter=\" \",fmt='%f')\n"
      ]
    },
    {
      "cell_type": "code",
      "execution_count": null,
      "metadata": {
        "id": "nwdj_Rhbqkep"
      },
      "outputs": [],
      "source": [
        "from sklearn.preprocessing import StandardScaler\n",
        "scaler = StandardScaler()\n",
        "scaled_features_e1 = scaler.fit_transform(X1_e1)\n",
        "numpy.savetxt(\"./colab/stand_norm_e1.txt\",scaled_features_e1,delimiter=\" \",fmt='%f')"
      ]
    },
    {
      "cell_type": "code",
      "execution_count": null,
      "metadata": {
        "id": "ZNo_Kp0uqkep"
      },
      "outputs": [],
      "source": [
        "scaler = StandardScaler()\n",
        "scaled_features_e2 = scaler.fit_transform(X1_e2)\n",
        "numpy.savetxt(\"./colab/stand_norm_e2.txt\",scaled_features_e2,delimiter=\" \",fmt='%f')"
      ]
    },
    {
      "cell_type": "markdown",
      "metadata": {
        "id": "RsAeq3YQqkeq"
      },
      "source": [
        "# Normalization e2"
      ]
    },
    {
      "cell_type": "code",
      "execution_count": null,
      "metadata": {
        "id": "tJjr1Dctqkeq"
      },
      "outputs": [],
      "source": [
        "\n",
        "import numpy as np\n",
        "\n",
        "\n",
        "X1_e2_new= X1_e2_new/np.max(X1_e2_new)\n",
        "\n",
        "numpy.savetxt(\"./colab/stand_norm_e2.txt\",X1_e2_new,delimiter=\" \",fmt='%f')"
      ]
    },
    {
      "cell_type": "code",
      "execution_count": null,
      "metadata": {
        "id": "8QJOc-7Zqkeq"
      },
      "outputs": [],
      "source": [
        "\n",
        "X1_e1_new= X1_e1_new/np.max(X1_e1_new)\n",
        "\n",
        "numpy.savetxt(\"./colab/stand_norm_e1.txt\",X1_e1_new,delimiter=\" \",fmt='%f')"
      ]
    },
    {
      "cell_type": "markdown",
      "metadata": {
        "id": "prIlbhgSqkeq"
      },
      "source": [
        "# Pre-ictal"
      ]
    },
    {
      "cell_type": "code",
      "execution_count": null,
      "metadata": {
        "id": "PtFvZhRZqkeq"
      },
      "outputs": [],
      "source": [
        "X_pre_ictal_e1=[X1_e1_new[i] for i,j in enumerate(X1_e1)  if (j[8]==1)or(j[8]==2)or (j[8]==3)or (j[8]==0)]\n",
        "Y1_pre_ictal_e1=[Y1_e1[i] for i,j in enumerate(X1_e1)  if (j[8]==1)or(j[8]==2)or (j[8]==3)or (j[8]==0)]\n",
        "X_pre_ictal_e1=numpy.array(X_pre_ictal_e1,float)\n",
        "Y1_pre_ictal_e1=numpy.array(Y1_pre_ictal_e1,float)"
      ]
    },
    {
      "cell_type": "code",
      "execution_count": null,
      "metadata": {
        "id": "aQ1fyvKpqkeq"
      },
      "outputs": [],
      "source": [
        "X_pre_ictal_e2=[X1_e2_new[i]  for i,j in enumerate(X1_e2)  if (j[8]==1)or(j[8]==2)or (j[8]==3)or (j[8]==0)]\n",
        "\n",
        "Y1_pre_ictal_e2=[Y1_e2[i] for i,j in enumerate(X1_e2)  if (j[8]==1)or(j[8]==2)or (j[8]==3)or (j[8]==0)]\n",
        "X_pre_ictal_e2=numpy.array(X_pre_ictal_e2,float)\n",
        "Y1_pre_ictal_e2=numpy.array(Y1_pre_ictal_e2,float)"
      ]
    },
    {
      "cell_type": "code",
      "execution_count": null,
      "metadata": {
        "id": "qyoZ4bKQqkeq",
        "outputId": "332799c1-c530-4466-ebcf-57258d02a1eb"
      },
      "outputs": [
        {
          "name": "stdout",
          "output_type": "stream",
          "text": [
            "(13623,)\n",
            "(13623, 6)\n"
          ]
        }
      ],
      "source": [
        "\n",
        "print(Y1_pre_ictal_e1.shape)\n",
        "print(X_pre_ictal_e1.shape)\n",
        "\n",
        "\n",
        "numpy.savetxt(\"./colab/y_pre_ictal_e1.txt\",Y1_pre_ictal_e1)\n",
        "import numpy as np\n",
        "\n",
        "\n",
        "\n",
        "#if standa\n",
        "\"\"\"scaler = StandardScaler()\n",
        "scaled_features_e1 = scaler.fit_transform(X1_pre_ictal_e1)\n",
        "#X1_pre_ictal= X1_pre_ictal/np.max(X1_pre_ictal)\n",
        "print(scaled_features_e1.shape)\n",
        "\"\"\"\n",
        "numpy.savetxt(\"./colab/stand_norm_e1_pre_ictal.txt\",X_pre_ictal_e1,delimiter=\" \",fmt='%f')"
      ]
    },
    {
      "cell_type": "code",
      "execution_count": null,
      "metadata": {
        "id": "7kHFDuUXqker",
        "outputId": "6ea3583b-d410-4680-ba88-3ced722db977"
      },
      "outputs": [
        {
          "name": "stdout",
          "output_type": "stream",
          "text": [
            "(13623, 6)\n",
            "(13623,)\n"
          ]
        }
      ],
      "source": [
        "\n",
        "print(X_pre_ictal_e2.shape)\n",
        "print(Y1_pre_ictal_e2.shape)\n",
        "\n",
        "numpy.savetxt(\"./colab/y_pre_ictal_e2.txt\",Y1_pre_ictal_e2)\n",
        "\n",
        "\n",
        "'''\n",
        "scaler = StandardScaler()\n",
        "scaled_features_e2 = scaler.fit_transform(X1_pre_ictal_e2)\n",
        "#X1_pre_ictal= X1_pre_ictal/np.max(X1_pre_ictal)\n",
        "'''\n",
        "numpy.savetxt(\"./colab/stand_norm_e2_pre_ictal.txt\",X_pre_ictal_e2,delimiter=\" \",fmt='%f')"
      ]
    },
    {
      "cell_type": "code",
      "execution_count": null,
      "metadata": {
        "id": "2UdotiLyqker",
        "outputId": "d964e014-9126-445e-dc36-23a8a8d5b38c"
      },
      "outputs": [
        {
          "ename": "NameError",
          "evalue": "name 'X' is not defined",
          "output_type": "error",
          "traceback": [
            "\u001b[1;31m---------------------------------------------------------------------------\u001b[0m",
            "\u001b[1;31mNameError\u001b[0m                                 Traceback (most recent call last)",
            "\u001b[1;32m<ipython-input-495-1a8feb36f3d6>\u001b[0m in \u001b[0;36m<module>\u001b[1;34m\u001b[0m\n\u001b[1;32m----> 1\u001b[1;33m \u001b[0mX_inter_ictal\u001b[0m\u001b[1;33m=\u001b[0m\u001b[1;33m[\u001b[0m\u001b[0mi\u001b[0m \u001b[1;32mfor\u001b[0m \u001b[0mi\u001b[0m \u001b[1;32min\u001b[0m \u001b[0mX\u001b[0m \u001b[1;32mif\u001b[0m \u001b[1;33m(\u001b[0m\u001b[0mi\u001b[0m\u001b[1;33m[\u001b[0m\u001b[1;36m401\u001b[0m\u001b[1;33m]\u001b[0m\u001b[1;33m==\u001b[0m\u001b[1;36m0\u001b[0m\u001b[1;33m)\u001b[0m\u001b[1;33m]\u001b[0m\u001b[1;33m\u001b[0m\u001b[1;33m\u001b[0m\u001b[0m\n\u001b[0m\u001b[0;32m      2\u001b[0m \u001b[0mX_inter_ictal\u001b[0m\u001b[1;33m=\u001b[0m\u001b[0mnumpy\u001b[0m\u001b[1;33m.\u001b[0m\u001b[0marray\u001b[0m\u001b[1;33m(\u001b[0m\u001b[0mX_inter_ictal\u001b[0m\u001b[1;33m,\u001b[0m\u001b[0mfloat\u001b[0m\u001b[1;33m)\u001b[0m\u001b[1;33m\u001b[0m\u001b[1;33m\u001b[0m\u001b[0m\n",
            "\u001b[1;31mNameError\u001b[0m: name 'X' is not defined"
          ]
        }
      ],
      "source": [
        "X_inter_ictal=[i for i in X if (i[401]==0)]\n",
        "X_inter_ictal=numpy.array(X_inter_ictal,float)"
      ]
    },
    {
      "cell_type": "code",
      "execution_count": null,
      "metadata": {
        "id": "R0rNSQnFqker",
        "outputId": "f5438d45-a455-4da7-8570-155b380d9a86"
      },
      "outputs": [
        {
          "name": "stdout",
          "output_type": "stream",
          "text": [
            "0.0\n",
            "(15419, 401)\n",
            "461640272.8\n"
          ]
        }
      ],
      "source": [
        "X1_inter_ictal = X_inter_ictal[:,0:401]\n",
        "print(X_inter_ictal[0,401])\n",
        "print(X1_inter_ictal.shape)\n",
        "Y1_inter_ictal = X_inter_ictal[:,401]\n",
        "\n",
        "numpy.savetxt(\"y2_inter_ictal.txt\",Y1_inter_ictal)\n",
        "import numpy as np\n",
        "print(np.max(X1_inter_ictal))\n",
        "\n",
        "X1_inter_ictal= X1_inter_ictal/np.max(X1_inter_ictal)\n",
        "\n",
        "numpy.savetxt(\"stand_norm_e2_inter_ictal.txt\",X1_inter_ictal,delimiter=\" \",fmt='%f')"
      ]
    },
    {
      "cell_type": "code",
      "execution_count": null,
      "metadata": {
        "id": "6NZoNzfsqker"
      },
      "outputs": [],
      "source": [
        "X_ictal=[i for i in X if (i[401]==4)]\n",
        "X_ictal=numpy.array(X_ictal,float)"
      ]
    },
    {
      "cell_type": "code",
      "execution_count": null,
      "metadata": {
        "id": "2JfiEDJmqker",
        "outputId": "387f9539-b446-49cc-c960-d17372dff7b8"
      },
      "outputs": [
        {
          "name": "stdout",
          "output_type": "stream",
          "text": [
            "4.0\n",
            "(369, 401)\n",
            "448463579.8\n"
          ]
        }
      ],
      "source": [
        "X1_ictal = X_ictal[:,0:401]\n",
        "print(X_ictal[0,401])\n",
        "print(X1_ictal.shape)\n",
        "Y1_ictal = X_ictal[:,401]\n",
        "\n",
        "numpy.savetxt(\"y2_ictal.txt\",Y1_ictal)\n",
        "import numpy as np\n",
        "print(np.max(X1_ictal))\n",
        "\n",
        "X1_ictal= X1_ictal/np.max(X1_ictal)\n",
        "\n",
        "numpy.savetxt(\"stand_norm_e2_ictal.txt\",X1_ictal,delimiter=\" \",fmt='%f')"
      ]
    },
    {
      "cell_type": "code",
      "execution_count": null,
      "metadata": {
        "id": "lRIzQ39m_Xdu",
        "outputId": "3328d097-7757-4a63-a9b7-457a7743b61f"
      },
      "outputs": [
        {
          "name": "stdout",
          "output_type": "stream",
          "text": [
            "(2879, 321)\n",
            "(2879, 321, 1)\n"
          ]
        }
      ],
      "source": [
        "print (x_train.shape)\n",
        "x_train=x_train.reshape(x_train.shape[0],  x_train.shape[1], 1)\n",
        "x_test = x_test.reshape(x_test.shape[0], x_test.shape[1],1 )\n",
        "print (x_train.shape)"
      ]
    },
    {
      "cell_type": "code",
      "execution_count": null,
      "metadata": {
        "id": "BjFNFDEO_Xdv",
        "outputId": "3b8904e8-8ae3-4c0c-b5f2-ff04773d8663"
      },
      "outputs": [
        {
          "name": "stdout",
          "output_type": "stream",
          "text": [
            "(3599, 322)\n",
            "(3599, 321)\n"
          ]
        }
      ],
      "source": [
        "# loading load prima indians diabetes dataset, past 5 years of medical history\n",
        "#dataset = numpy.loadtxt(\"Electrode1.txt\", delimiter=\",\")\n",
        "dataset= pd.read_csv(\"stand_norm_e2.txt\",delimiter=\" \",header=None)\n",
        "t= pd.read_csv(\"good2_e2.txt\",delimiter=\" \", header=None)\n",
        "y=numpy.array(t,float)\n",
        "print(t.shape)\n",
        "Y1 = y[:,321]\n",
        "Y1 = tensorflow.keras.utils.to_categorical(Y1, 3)\n",
        "\n",
        "print(dataset.shape)\n",
        "dataset=numpy.array(dataset,float)\n",
        "# split into input (X) and output (Y) variables, splitting csv data\n"
      ]
    },
    {
      "cell_type": "code",
      "execution_count": null,
      "metadata": {
        "id": "eEGjzNqWqkes"
      },
      "outputs": [],
      "source": []
    },
    {
      "cell_type": "code",
      "execution_count": null,
      "metadata": {
        "id": "ZEO32r6-_Xdv",
        "outputId": "0c9c6703-01da-4fb1-b578-24eef424cd59"
      },
      "outputs": [
        {
          "name": "stdout",
          "output_type": "stream",
          "text": [
            "(2879, 321)\n",
            "(2879, 321, 1)\n"
          ]
        }
      ],
      "source": [
        "\n",
        "x_train, x_test, y_train, y_test = train_test_split(dataset, Y1, test_size=0.20, random_state=42)\n",
        "print (x_train.shape)\n",
        "x_train=x_train.reshape(x_train.shape[0],  x_train.shape[1], 1)\n",
        "x_test = x_test.reshape(x_test.shape[0], x_test.shape[1],1 )\n",
        "print (x_train.shape)"
      ]
    }
  ],
  "metadata": {
    "colab": {
      "provenance": []
    },
    "kernelspec": {
      "display_name": "Python 3",
      "language": "python",
      "name": "python3"
    },
    "language_info": {
      "codemirror_mode": {
        "name": "ipython",
        "version": 3
      },
      "file_extension": ".py",
      "mimetype": "text/x-python",
      "name": "python",
      "nbconvert_exporter": "python",
      "pygments_lexer": "ipython3",
      "version": "3.8.8"
    }
  },
  "nbformat": 4,
  "nbformat_minor": 0
}