{
  "cells": [
    {
      "cell_type": "code",
      "execution_count": null,
      "metadata": {
        "id": "Ou0kszrX2FVV"
      },
      "outputs": [],
      "source": [
        "# import functions\n",
        "import keras\n",
        "import tensorflow as tf\n",
        "from keras.datasets import mnist # import the function mnist\n",
        "from keras.models import Sequential\n",
        "from keras.layers import Dense, Dropout # Dense = Fully Connected layer. #50% par exemple des connexion vont etre desactive danx l apprentissage pour alleger le reseau et eviter le sur apprentissage\n",
        "#from keras.optimizers import Adam\n",
        "#from keras.optimizers import adam_v2\n",
        "\n",
        "from tensorflow.keras.optimizers import Adam #backpropagation ( versio algo MAJ des poids)\n",
        "\n",
        "import matplotlib.pyplot as plt # shorcut for a plot function"
      ]
    },
    {
      "cell_type": "code",
      "execution_count": null,
      "metadata": {
        "id": "_yeka64G7U9g"
      },
      "outputs": [],
      "source": [
        "batch_size = 128 #BATCH  egale a 1 : une seule image dans l entree puis une MAJ  si 2  2 images\n",
        "\n",
        "# 1 epoch :  un seul passage sur toute la base  epoch egal 100 : 100 passages\n",
        "num_classes = 10\n",
        "epochs = 10\n",
        "input_shape = (32, 32, 3)"
      ]
    },
    {
      "cell_type": "code",
      "execution_count": null,
      "metadata": {
        "colab": {
          "base_uri": "https://localhost:8080/"
        },
        "id": "A22ZZbFB7hQA",
        "outputId": "9a4a9695-1236-4b0f-ec2f-db0e9238d4fd"
      },
      "outputs": [
        {
          "output_type": "stream",
          "name": "stdout",
          "text": [
            "Downloading data from https://storage.googleapis.com/tensorflow/tf-keras-datasets/mnist.npz\n",
            "11490434/11490434 [==============================] - 0s 0us/step\n"
          ]
        }
      ],
      "source": [
        "(x_train, y_train), (x_test, y_test) = mnist.load_data() #mnist function loads the data\n",
        ""
      ]
    },
    {
      "cell_type": "code",
      "execution_count": null,
      "metadata": {
        "colab": {
          "base_uri": "https://localhost:8080/",
          "height": 369
        },
        "id": "G4wDRTx8-A4m",
        "outputId": "74cfadc2-ccb8-4482-db71-c65e5bf092b0"
      },
      "outputs": [
        {
          "output_type": "stream",
          "name": "stdout",
          "text": [
            "(60000, 28, 28)\n",
            "(10000, 28, 28)\n",
            "(60000,)\n",
            "(10000,)\n",
            "[5 0 4 1 9 2 1 3 1 4]\n"
          ]
        },
        {
          "output_type": "execute_result",
          "data": {
            "text/plain": [
              "<matplotlib.image.AxesImage at 0x7f48ce7a1f10>"
            ]
          },
          "metadata": {},
          "execution_count": 4
        },
        {
          "output_type": "display_data",
          "data": {
            "text/plain": [
              "<Figure size 432x288 with 1 Axes>"
            ],
            "image/png": "[encoded data removed]"
          },
          "metadata": {
            "needs_background": "light"
          }
        }
      ],
      "source": [
        "print(x_train.shape)\n",
        "print(x_test.shape)\n",
        "print(y_train.shape)\n",
        "print(y_test.shape)\n",
        "print(y_train[:10])#etiquettes 10 premieres images\n",
        "plt.imshow(x_train[1,:,:], cmap = 'gray') #image d'indice 1 : : 28 28 pixels afffichés"
      ]
    },
    {
      "cell_type": "code",
      "source": [
        "import numpy as np\n",
        "from PIL import Image\n",
        "x_train_re=np.zeros( [x_train.shape[0],32,32,3])\n",
        "x_test_re=np.zeros( [x_test.shape[0],32,32,3])\n",
        "\n",
        "for i in range(x_train.shape[0]):\n",
        "  a = Image.fromarray(x_train[i,:,:])\n",
        "  a=a.resize((32,32))\n",
        "  a = a.convert(\"RGB\")\n",
        "  x_train_re [i,:,:,:]= np.asarray(a)"
      ],
      "metadata": {
        "id": "01nmO3MgW8Ui"
      },
      "execution_count": null,
      "outputs": []
    },
    {
      "cell_type": "code",
      "source": [
        "for j in range(x_test.shape[0]):\n",
        "  b = Image.fromarray(x_test[j,:,:])\n",
        "  b=b.resize((32,32))\n",
        "  b = b.convert(\"RGB\")\n",
        "  x_test_re [j,:,:,:]= np.asarray(b)\n",
        "print(x_test_re.shape)\n",
        "print(x_test_re[0][0][0])\n",
        "plt.imshow(x_train_re[1,:,:,:])"
      ],
      "metadata": {
        "colab": {
          "base_uri": "https://localhost:8080/",
          "height": 335
        },
        "id": "MLFL5iVMgAYp",
        "outputId": "cec2e75a-60c6-4044-fe8d-43b16544b5ce"
      },
      "execution_count": null,
      "outputs": [
        {
          "output_type": "stream",
          "name": "stderr",
          "text": [
            "WARNING:matplotlib.image:Clipping input data to the valid range for imshow with RGB data ([0..1] for floats or [0..255] for integers).\n"
          ]
        },
        {
          "output_type": "stream",
          "name": "stdout",
          "text": [
            "(10000, 32, 32, 3)\n",
            "[0. 0. 0.]\n"
          ]
        },
        {
          "output_type": "execute_result",
          "data": {
            "text/plain": [
              "<matplotlib.image.AxesImage at 0x7f48ce294ed0>"
            ]
          },
          "metadata": {},
          "execution_count": 6
        },
        {
          "output_type": "display_data",
          "data": {
            "text/plain": [
              "<Figure size 432x288 with 1 Axes>"
            ],
            "image/png": "[encoded data removed]"
          },
          "metadata": {
            "needs_background": "light"
          }
        }
      ]
    },
    {
      "cell_type": "code",
      "execution_count": null,
      "metadata": {
        "colab": {
          "base_uri": "https://localhost:8080/"
        },
        "id": "J_ARJzVG8ROg",
        "outputId": "8134472d-6499-4207-e797-e6cf8242f9f2"
      },
      "outputs": [
        {
          "output_type": "stream",
          "name": "stdout",
          "text": [
            "60000 train samples\n",
            "10000 test samples\n"
          ]
        }
      ],
      "source": [
        "from keras.layers import Dense, Dropout, Flatten\n",
        "from keras.layers import Conv2D, MaxPooling2D\n",
        "\n",
        "x_train_re = x_train_re.astype('float32') # by default, images are stored as unsigned integers from 0 to 255 (you only need 8 bits)\n",
        "x_test_re = x_test_re.astype('float32') # by default, all training is done on 'float32'\n",
        "x_train_re /= 255 # normalisation pour que l intervalle de l image de 0 a 1\n",
        "x_test_re /= 255\n",
        "#print(x_train.shape[0], 'train samples') # print first entry of the size\n",
        "#print(x_test.shape[0], 'test samples')"
      ]
    },
    {
      "cell_type": "code",
      "execution_count": null,
      "metadata": {
        "colab": {
          "base_uri": "https://localhost:8080/"
        },
        "id": "UlgYPCrMAUNJ",
        "outputId": "fd3d940e-85ce-4244-b0d4-123ab06d858a"
      },
      "outputs": [
        {
          "output_type": "stream",
          "name": "stdout",
          "text": [
            "[1. 0. 0. 0. 0. 0. 0. 0. 0. 0.]\n"
          ]
        }
      ],
      "source": [
        "# one-hot encoding: convert class vectors to one-hot encoding\n",
        "y_train = tf.keras.utils.to_categorical(y_train, num_classes) # Keras a set of functions in utils. We are using \"to_categorical\" which is the name for one-hot encoding\n",
        "y_test = tf.keras.utils.to_categorical(y_test, num_classes)\n",
        "\n",
        "#Pour chaque image on a une valeur alors que RNN sortie vecteur de 10\n",
        "\n",
        "print(y_train[1,:])"
      ]
    },
    {
      "cell_type": "code",
      "execution_count": null,
      "metadata": {
        "colab": {
          "base_uri": "https://localhost:8080/"
        },
        "id": "ECwVJgGja7Qz",
        "outputId": "d2164772-305b-4df4-9d0b-ce8a1a53264c"
      },
      "outputs": [
        {
          "output_type": "stream",
          "name": "stdout",
          "text": [
            "Downloading data from https://storage.googleapis.com/tensorflow/keras-applications/vgg16/vgg16_weights_tf_dim_ordering_tf_kernels_notop.h5\n",
            "58889256/58889256 [==============================] - 0s 0us/step\n"
          ]
        }
      ],
      "source": [
        "#from keras.applications.inception_v3 import InceptionV3\n",
        "from keras.applications.vgg16 import VGG16\n",
        "#from keras.applications.vgg16 import VGG16\n",
        "\n",
        "#input_shape = (32, 32, 3)\n",
        "#import tensorflow as tf\n",
        "#By specifying the include_top=False argument, you load a network that doesn’t include the classification layers at the top.\n",
        "#base_model = tf.keras.applications.InceptionV3(input_shape = input_shape, include_top = False, weights = \"imagenet\")\n",
        "base_model = tf.keras.applications.VGG16(input_shape = input_shape, include_top = False, weights = \"imagenet\")"
      ]
    },
    {
      "cell_type": "code",
      "execution_count": null,
      "metadata": {
        "id": "luPVRBNLa8Oy"
      },
      "outputs": [],
      "source": [
        "from keras.models import Model\n",
        "base_model1 = Model(inputs=base_model.input, outputs=base_model.get_layer('block1_conv2').output)\n",
        "#base_model1.summary()"
      ]
    },
    {
      "cell_type": "code",
      "execution_count": null,
      "metadata": {
        "id": "TWjv7-Fza_QD"
      },
      "outputs": [],
      "source": [
        "base_model1.trainable=False"
      ]
    },
    {
      "cell_type": "code",
      "execution_count": null,
      "metadata": {
        "id": "O-9i5kJQbCDb"
      },
      "outputs": [],
      "source": [
        "#base_model1.summary()"
      ]
    },
    {
      "cell_type": "code",
      "execution_count": null,
      "metadata": {
        "id": "RQqlU5XcbUcR"
      },
      "outputs": [],
      "source": [
        "from tensorflow.keras import regularizers\n",
        "model = tf.keras.Sequential([base_model1,\n",
        "                                 tf.keras.layers.Conv2D(8,3,activation='relu',kernel_regularizer=regularizers.l2(l=0.001),strides=1,padding='same'),\n",
        "                                 tf.keras.layers.MaxPooling2D((2,2),strides=2,padding='same'),\n",
        "\n",
        "                                 tf.keras.layers.Conv2D(32,3,activation='relu',kernel_regularizer=regularizers.l2(l=0.001), strides=1, padding='same'),\n",
        "                                 tf.keras.layers.MaxPooling2D((2,2),strides=2, padding='same'),\n",
        "                                 tf.keras.layers.Conv2D(64,3,activation='relu',strides=1,kernel_regularizer=regularizers.l2(l=0.001), padding='same'),\n",
        "                                 tf.keras.layers.MaxPooling2D((2,2),strides=2, padding='same'),\n",
        "                                 tf.keras.layers.Conv2D(254,3,activation='relu',strides=1, padding='same'),\n",
        "                                 tf.keras.layers.MaxPooling2D((2,2),strides=2, padding='same'),\n",
        "                                 tf.keras.layers.Conv2D(512,3,activation='relu',strides=1, padding='same'),\n",
        "                                 tf.keras.layers.MaxPooling2D((2,2),strides=2, padding='same'),\n",
        "                                 tf.keras.layers.Flatten(),\n",
        "                                 tf.keras.layers.Dense(64, activation='relu'),\n",
        "                                 tf.keras.layers.Dropout(0.2),\n",
        "                                 tf.keras.layers.Dense(10, activation=\"softmax\")\n",
        "                                ])"
      ]
    },
    {
      "cell_type": "code",
      "execution_count": null,
      "metadata": {
        "id": "jRjZQecxDwTQ"
      },
      "outputs": [],
      "source": [
        "model.compile(loss='categorical_crossentropy', #diff entre calculé w desiré : fonction perte\n",
        "              optimizer=Adam(), metrics=['accuracy'])\n",
        "\n",
        "#Adam : fonction MAJ poids"
      ]
    },
    {
      "cell_type": "code",
      "execution_count": null,
      "metadata": {
        "colab": {
          "base_uri": "https://localhost:8080/"
        },
        "id": "n9ErB18GEE3C",
        "outputId": "31713eca-d20a-49b3-c14a-e3f2cd2fc70b"
      },
      "outputs": [
        {
          "output_type": "stream",
          "name": "stdout",
          "text": [
            "Epoch 1/10\n",
            "422/422 [==============================] - 15s 13ms/step - loss: 1.6567 - accuracy: 0.5666 - val_loss: 0.2175 - val_accuracy: 0.9638\n",
            "Epoch 2/10\n",
            "422/422 [==============================] - 5s 12ms/step - loss: 0.2758 - accuracy: 0.9344 - val_loss: 0.1329 - val_accuracy: 0.9808\n",
            "Epoch 3/10\n",
            "422/422 [==============================] - 5s 12ms/step - loss: 0.1462 - accuracy: 0.9768 - val_loss: 0.1148 - val_accuracy: 0.9853\n",
            "Epoch 4/10\n",
            "422/422 [==============================] - 5s 12ms/step - loss: 0.1210 - accuracy: 0.9827 - val_loss: 0.1071 - val_accuracy: 0.9868\n",
            "Epoch 5/10\n",
            "422/422 [==============================] - 5s 12ms/step - loss: 0.1073 - accuracy: 0.9851 - val_loss: 0.0957 - val_accuracy: 0.9903\n",
            "Epoch 6/10\n",
            "422/422 [==============================] - 5s 12ms/step - loss: 0.0953 - accuracy: 0.9879 - val_loss: 0.0947 - val_accuracy: 0.9877\n",
            "Epoch 7/10\n",
            "422/422 [==============================] - 5s 12ms/step - loss: 0.0940 - accuracy: 0.9874 - val_loss: 0.1112 - val_accuracy: 0.9828\n",
            "Epoch 8/10\n",
            "422/422 [==============================] - 5s 12ms/step - loss: 0.0840 - accuracy: 0.9891 - val_loss: 0.1012 - val_accuracy: 0.9887\n",
            "Epoch 9/10\n",
            "422/422 [==============================] - 5s 12ms/step - loss: 0.0813 - accuracy: 0.9892 - val_loss: 0.0928 - val_accuracy: 0.9888\n",
            "Epoch 10/10\n",
            "422/422 [==============================] - 5s 12ms/step - loss: 0.0771 - accuracy: 0.9899 - val_loss: 0.0944 - val_accuracy: 0.9887\n"
          ]
        }
      ],
      "source": [
        "history = model.fit(x_train_re, y_train,\n",
        "                    batch_size=128,\n",
        "                    epochs=10,\n",
        "                    verbose=1, # means print everything 0 : pas d'affichage 2: plus de details\n",
        "                    validation_split=0.1) # it runs the model here\n",
        "model.save('final.h5')\n"
      ]
    },
    {
      "cell_type": "code",
      "execution_count": null,
      "metadata": {
        "id": "M4PTvGLsEmpR",
        "colab": {
          "base_uri": "https://localhost:8080/"
        },
        "outputId": "8b35d3db-6e77-46ca-de05-cdecd37169bc"
      },
      "outputs": [
        {
          "output_type": "stream",
          "name": "stdout",
          "text": [
            "79/79 [==============================] - 1s 9ms/step - loss: 0.0979 - accuracy: 0.9864\n",
            "Test loss: 0.09793060272932053\n",
            "Test accuracy: 0.9864000082015991\n"
          ]
        }
      ],
      "source": [
        "score = model.evaluate(x_test_re, y_test, verbose=1,batch_size=batch_size)\n",
        "print('Test loss:', score[0])#evaluate elle retourne 2 valeurs : indice 1: loss indice 2 : Accuracy\n",
        "print('Test accuracy:', score[1])"
      ]
    },
    {
      "cell_type": "code",
      "execution_count": null,
      "metadata": {
        "id": "RMjfybz9Imeg",
        "colab": {
          "base_uri": "https://localhost:8080/",
          "height": 295
        },
        "outputId": "ff9105a2-8556-430e-8f13-56e4a087f20f"
      },
      "outputs": [
        {
          "output_type": "display_data",
          "data": {
            "text/plain": [
              "<Figure size 432x288 with 1 Axes>"
            ],
            "image/png": "[encoded data removed]"
          },
          "metadata": {
            "needs_background": "light"
          }
        }
      ],
      "source": [
        "plt.plot(history.history['accuracy']) # training accuracy pour chaque epoch loss et Accuracy\n",
        "#accuracy  aprentissage et val-accuracy: validation\n",
        "plt.plot(history.history['val_accuracy']) # validation accuracy\n",
        "plt.title('model accuracy')\n",
        "plt.ylabel('accuracy')\n",
        "plt.xlabel('epoch')\n",
        "plt.legend(['train', 'test'], loc='upper left')\n",
        "plt.show()"
      ]
    },
    {
      "cell_type": "code",
      "execution_count": null,
      "metadata": {
        "id": "mh8HovREI4q5",
        "colab": {
          "base_uri": "https://localhost:8080/",
          "height": 295
        },
        "outputId": "5e3f422c-faf6-4c17-cd51-e68fe8273e4c"
      },
      "outputs": [
        {
          "output_type": "display_data",
          "data": {
            "text/plain": [
              "<Figure size 432x288 with 1 Axes>"
            ],
            "image/png": "[encoded data removed]"
          },
          "metadata": {
            "needs_background": "light"
          }
        }
      ],
      "source": [
        "# summarize history for loss\n",
        "\n",
        "#loss : erreur entre disiré et calculé\n",
        "plt.plot(history.history['loss'])\n",
        "plt.plot(history.history['val_loss'])\n",
        "plt.title('model loss')\n",
        "plt.ylabel('loss')\n",
        "plt.xlabel('epoch')\n",
        "plt.legend(['train', 'test'], loc='upper left')\n",
        "plt.show()"
      ]
    },
    {
      "cell_type": "markdown",
      "source": [
        "**Fine-tuning**"
      ],
      "metadata": {
        "id": "tgc0n0bV2STq"
      }
    },
    {
      "cell_type": "code",
      "source": [
        "base_model1.trainable=True"
      ],
      "metadata": {
        "id": "LNYWEQ1K2QPW"
      },
      "execution_count": null,
      "outputs": []
    },
    {
      "cell_type": "code",
      "source": [
        "from tensorflow.keras import regularizers\n",
        "model = tf.keras.Sequential([base_model1,\n",
        "                                 tf.keras.layers.Conv2D(8,3,activation='relu',kernel_regularizer=regularizers.l2(l=0.001),strides=1,padding='same'),\n",
        "                                 tf.keras.layers.MaxPooling2D((2,2),strides=2,padding='same'),\n",
        "\n",
        "                                 tf.keras.layers.Conv2D(32,3,activation='relu',kernel_regularizer=regularizers.l2(l=0.001), strides=1, padding='same'),\n",
        "                                 tf.keras.layers.MaxPooling2D((2,2),strides=2, padding='same'),\n",
        "                                 tf.keras.layers.Conv2D(64,3,activation='relu',strides=1,kernel_regularizer=regularizers.l2(l=0.001), padding='same'),\n",
        "                                 tf.keras.layers.MaxPooling2D((2,2),strides=2, padding='same'),\n",
        "                                 tf.keras.layers.Conv2D(254,3,activation='relu',strides=1, padding='same'),\n",
        "                                 tf.keras.layers.MaxPooling2D((2,2),strides=2, padding='same'),\n",
        "                                 tf.keras.layers.Conv2D(512,3,activation='relu',strides=1, padding='same'),\n",
        "                                 tf.keras.layers.MaxPooling2D((2,2),strides=2, padding='same'),\n",
        "                                 tf.keras.layers.Flatten(),\n",
        "                                 tf.keras.layers.Dense(64, activation='relu'),\n",
        "                                 tf.keras.layers.Dropout(0.2),\n",
        "                                 tf.keras.layers.Dense(10, activation=\"softmax\")\n",
        "                                ])"
      ],
      "metadata": {
        "id": "sWdFQOKB2VwD"
      },
      "execution_count": null,
      "outputs": []
    },
    {
      "cell_type": "code",
      "source": [
        "model.compile(loss='categorical_crossentropy', #diff entre calculé w desiré : fonction perte\n",
        "              optimizer=Adam(), metrics=['accuracy'])\n"
      ],
      "metadata": {
        "id": "idNJwrel2ZjC"
      },
      "execution_count": null,
      "outputs": []
    },
    {
      "cell_type": "code",
      "source": [
        "model.load_weights('./final.h5') #chargement du dernier état"
      ],
      "metadata": {
        "id": "54w_ZPJT2dlQ"
      },
      "execution_count": null,
      "outputs": []
    },
    {
      "cell_type": "code",
      "source": [
        "history = model.fit(x_train_re, y_train,\n",
        "                    batch_size=128,\n",
        "                    epochs=10,\n",
        "                    verbose=1, # means print everything 0 : pas d'affichage 2: plus de details\n",
        "                    validation_split=0.1) # it runs the model here\n",
        "model.save('final.h5')"
      ],
      "metadata": {
        "id": "r--zCE6c2itG",
        "colab": {
          "base_uri": "https://localhost:8080/"
        },
        "outputId": "972f400c-3027-437f-f0a2-e53bb85b3c21"
      },
      "execution_count": null,
      "outputs": [
        {
          "output_type": "stream",
          "name": "stdout",
          "text": [
            "Epoch 1/10\n",
            "422/422 [==============================] - 7s 15ms/step - loss: 0.0837 - accuracy: 0.9875 - val_loss: 0.0972 - val_accuracy: 0.9865\n",
            "Epoch 2/10\n",
            "422/422 [==============================] - 6s 13ms/step - loss: 0.0767 - accuracy: 0.9886 - val_loss: 0.0936 - val_accuracy: 0.9877\n",
            "Epoch 3/10\n",
            "422/422 [==============================] - 6s 13ms/step - loss: 0.0688 - accuracy: 0.9902 - val_loss: 0.0982 - val_accuracy: 0.9850\n",
            "Epoch 4/10\n",
            "422/422 [==============================] - 6s 14ms/step - loss: 0.0696 - accuracy: 0.9896 - val_loss: 0.0870 - val_accuracy: 0.9897\n",
            "Epoch 5/10\n",
            "422/422 [==============================] - 6s 14ms/step - loss: 0.0618 - accuracy: 0.9917 - val_loss: 0.0871 - val_accuracy: 0.9878\n",
            "Epoch 6/10\n",
            "422/422 [==============================] - 6s 14ms/step - loss: 0.0661 - accuracy: 0.9905 - val_loss: 0.0846 - val_accuracy: 0.9880\n",
            "Epoch 7/10\n",
            "422/422 [==============================] - 6s 14ms/step - loss: 0.0613 - accuracy: 0.9911 - val_loss: 0.0767 - val_accuracy: 0.9895\n",
            "Epoch 8/10\n",
            "422/422 [==============================] - 6s 14ms/step - loss: 0.0527 - accuracy: 0.9936 - val_loss: 0.0886 - val_accuracy: 0.9873\n",
            "Epoch 9/10\n",
            "422/422 [==============================] - 6s 14ms/step - loss: 0.0563 - accuracy: 0.9921 - val_loss: 0.0824 - val_accuracy: 0.9908\n",
            "Epoch 10/10\n",
            "422/422 [==============================] - 6s 14ms/step - loss: 0.0471 - accuracy: 0.9943 - val_loss: 0.0794 - val_accuracy: 0.9908\n"
          ]
        }
      ]
    },
    {
      "cell_type": "code",
      "source": [
        "score = model.evaluate(x_test_re, y_test, verbose=1,batch_size=batch_size)\n",
        "print('Test loss:', score[0])#evaluate elle retourne 2 valeurs : indice 1: loss indice 2 : Accuracy\n",
        "print('Test accuracy:', score[1])"
      ],
      "metadata": {
        "id": "M3meMOuX2oj8",
        "colab": {
          "base_uri": "https://localhost:8080/"
        },
        "outputId": "7c249600-c262-47e6-d697-91cf93b881e4"
      },
      "execution_count": null,
      "outputs": [
        {
          "output_type": "stream",
          "name": "stdout",
          "text": [
            "79/79 [==============================] - 1s 7ms/step - loss: 0.0676 - accuracy: 0.9915\n",
            "Test loss: 0.0675964504480362\n",
            "Test accuracy: 0.9915000200271606\n"
          ]
        }
      ]
    }
  ],
  "metadata": {
    "accelerator": "GPU",
    "colab": {
      "provenance": []
    },
    "kernelspec": {
      "display_name": "Python 3",
      "language": "python",
      "name": "python3"
    },
    "language_info": {
      "codemirror_mode": {
        "name": "ipython",
        "version": 3
      },
      "file_extension": ".py",
      "mimetype": "text/x-python",
      "name": "python",
      "nbconvert_exporter": "python",
      "pygments_lexer": "ipython3",
      "version": "3.7.4"
    },
    "gpuClass": "standard"
  },
  "nbformat": 4,
  "nbformat_minor": 0
}